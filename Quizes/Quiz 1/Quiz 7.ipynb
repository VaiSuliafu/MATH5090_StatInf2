{
 "cells": [
  {
   "cell_type": "code",
   "execution_count": 1,
   "metadata": {},
   "outputs": [],
   "source": [
    "# importing the necessary library\n",
    "import numpy as np\n",
    "import pandas as pd\n",
    "\n",
    "from scipy.stats import binom\n",
    "\n",
    "# mathematical constants\n",
    "from math import e"
   ]
  },
  {
   "cell_type": "code",
   "execution_count": 2,
   "metadata": {},
   "outputs": [],
   "source": [
    "# load the data\n",
    "X = pd.Series(np.sort([1, 6, 1, 4, 7, 8, 4, 6, 5, 2,\n",
    "                       1, 6, 5, 3, 1, 8, 7, 8, 1, 2,\n",
    "                       6, 1, 6, 4, 9, 2, 6, 9, 6, 9,\n",
    "                       5, 2, 3, 6, 6, 9, 2, 8, 7, 3]))\n",
    "\n",
    "# X now represents the ordered sample"
   ]
  },
  {
   "cell_type": "code",
   "execution_count": 3,
   "metadata": {},
   "outputs": [],
   "source": [
    "# to compare X to the exponential distribution, we will use the Cramer-Von Mises Test\n",
    "# thus, we will need a function for the exponential CDF\n",
    "def exponentialCDF(x, theta):\n",
    "    return (1 - e**(-x / theta)) \n",
    "\n",
    "# the exponentialCDF function defined above needs the parameter theta\n",
    "# we can approximate theta using the Maximum Likelihood Estimator for the Exponential Distribution"
   ]
  },
  {
   "cell_type": "code",
   "execution_count": 4,
   "metadata": {},
   "outputs": [],
   "source": [
    "# now we can define a function for calculating the Cramer-Von Mises Test Statistic\n",
    "\n",
    "def CVM_Test(X, distributionParameter):\n",
    "    \n",
    "    # get the length of this ordered list\n",
    "    n = len(X)\n",
    "    \n",
    "    # initialize a variable to store the sum of squared differences\n",
    "    sumTotal = 0\n",
    "    \n",
    "    # calculate the sum of squared distances\n",
    "    for i in range(n):\n",
    "        ithTerm = (i+0.5)/n # i goes begins at 0, so (i+1) - 0.5 = i+0.5\n",
    "        sumTotal += (exponentialCDF(X[i], distributionParameter) - ithTerm)**2\n",
    "    \n",
    "    # return the test statistic\n",
    "    return (1 / (12 * n)) + sumTotal"
   ]
  },
  {
   "cell_type": "code",
   "execution_count": 5,
   "metadata": {},
   "outputs": [
    {
     "data": {
      "text/plain": [
       "0.05093701139921777"
      ]
     },
     "execution_count": 5,
     "metadata": {},
     "output_type": "execute_result"
    }
   ],
   "source": [
    "# let's test this function on Example 13.8.2\n",
    "\n",
    "testX = pd.Series(np.sort([5.2, 8.4, 0.9, 0.1, 5.9,\n",
    "                           17.9, 3.6, 2.5, 1.2, 1.8,\n",
    "                           1.8, 6.1, 5.3, 1.2, 1.2,\n",
    "                           3.0, 3.5, 7.6, 3.4, 0.5,\n",
    "                           2.4, 5.3, 1.9, 2.8, 0.1]))\n",
    "\n",
    "CVM_Test(testX, 3.7)"
   ]
  },
  {
   "cell_type": "code",
   "execution_count": 6,
   "metadata": {},
   "outputs": [],
   "source": [
    "# now that we know the function is correct...\n",
    "# lets answer question #1 using alpha = 0.05\n",
    "\n",
    "# MLE for exponential distribution is n/sum(Xi)\n",
    "mle = sum(X) / len(X)"
   ]
  },
  {
   "cell_type": "code",
   "execution_count": 7,
   "metadata": {},
   "outputs": [],
   "source": [
    "# now calculate the Cramer-Von Mises Test Statistic\n",
    "observedCM = CVM_Test(X, mle)"
   ]
  },
  {
   "cell_type": "code",
   "execution_count": 8,
   "metadata": {},
   "outputs": [],
   "source": [
    "# then since we used an approximation for the parameter of the distribution under the null, \n",
    "# we need to apply Stephen's modifications \n",
    "observedCM = (1 + 0.16 / len(X)) * observedCM"
   ]
  },
  {
   "cell_type": "code",
   "execution_count": 9,
   "metadata": {},
   "outputs": [
    {
     "name": "stdout",
     "output_type": "stream",
     "text": [
      "Question #1:\n",
      "\n",
      "0.6066946310765385 > 0.225 = True\n",
      "Thus we reject the null.\n"
     ]
    }
   ],
   "source": [
    "# Let's compare the result to critical value for alpha = 0.5\n",
    "print(\"Question #1:\")\n",
    "print(\"\")\n",
    "print(observedCM, \">\", 0.225, \"=\", observedCM>0.225)\n",
    "\n",
    "# print the results\n",
    "if (observedCM>0.255):\n",
    "    print(\"Thus we reject the null.\")\n",
    "else:\n",
    "    print(\"Thus we fail to reject the null.\")"
   ]
  },
  {
   "cell_type": "code",
   "execution_count": 10,
   "metadata": {},
   "outputs": [],
   "source": [
    "# Now lets make a function for the sign test\n",
    "def sgnTest(X, m, alternative='greater'):\n",
    "    \n",
    "    # count the observations less than m\n",
    "    t = len([x for x in X if x < m])\n",
    "    \n",
    "    # calculate n\n",
    "    n = len(X)\n",
    "    \n",
    "    if alternative=='greater':\n",
    "        return binom.cdf(t, n, 0.5)\n",
    "    elif alternative=='smaller':\n",
    "        return 1 - binom.cdf(t-1, n, 0.5)"
   ]
  },
  {
   "cell_type": "code",
   "execution_count": 11,
   "metadata": {},
   "outputs": [],
   "source": [
    "# now lets get our observed test statistic for question 2\n",
    "observedSgn = sgnTest(X,7,'smaller')"
   ]
  },
  {
   "cell_type": "code",
   "execution_count": 12,
   "metadata": {},
   "outputs": [
    {
     "name": "stdout",
     "output_type": "stream",
     "text": [
      "Question #2:\n",
      "\n",
      "0.003213288047845708 < 0.1 = True\n",
      "Thus we reject the null.\n"
     ]
    }
   ],
   "source": [
    "# Let's compare the result to critical value for alpha = 0.1\n",
    "print(\"Question #2:\")\n",
    "print(\"\")\n",
    "print(observedSgn, \"<\", 0.1, \"=\", observedSgn<0.1)\n",
    "\n",
    "# print the results\n",
    "if (observedSgn<0.1):\n",
    "    print(\"Thus we reject the null.\")\n",
    "else:\n",
    "    print(\"Thus we fail to reject the null.\")"
   ]
  }
 ],
 "metadata": {
  "kernelspec": {
   "display_name": "Python 3",
   "language": "python",
   "name": "python3"
  },
  "language_info": {
   "codemirror_mode": {
    "name": "ipython",
    "version": 3
   },
   "file_extension": ".py",
   "mimetype": "text/x-python",
   "name": "python",
   "nbconvert_exporter": "python",
   "pygments_lexer": "ipython3",
   "version": "3.7.6"
  }
 },
 "nbformat": 4,
 "nbformat_minor": 2
}
