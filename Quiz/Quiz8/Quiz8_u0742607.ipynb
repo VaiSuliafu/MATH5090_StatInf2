{
 "cells": [
  {
   "cell_type": "code",
   "execution_count": 1,
   "metadata": {},
   "outputs": [],
   "source": [
    "# load in the data\n",
    "X = [8.9, 10.0, 7.9, 8.1, 8.3,\n",
    "     13.8, 12.6, 8.1, 9.5, \n",
    "     16.5, 13.6, 14.2, 13.3]\n",
    "\n",
    "Y= [12.2, 12.2, 9.8, 9.2, 9.0,\n",
    "    14.2, 12.8, 7.3, 8.5,\n",
    "    15.3, 12.2, 12.7, 11.1]"
   ]
  },
  {
   "cell_type": "code",
   "execution_count": 2,
   "metadata": {},
   "outputs": [],
   "source": [
    "# a function to generate the test statistic\n",
    "def calcTestStat(X, Y, test='Wilcoxon'):\n",
    "    \n",
    "    # generate a sorted list of differences\n",
    "    D=[(X[i] - Y[i]) for i in range(len(X))]\n",
    "    D = sorted(D, key=abs)\n",
    "    \n",
    "    if test == 'Wilcoxon':\n",
    "        return sum([i+1 for i in range(len(D)) if D[i] > 0]), D\n",
    "    elif test == 'PairedSample':\n",
    "        return sum([d for d in D if d >0]), D"
   ]
  },
  {
   "cell_type": "code",
   "execution_count": 3,
   "metadata": {},
   "outputs": [],
   "source": [
    "# helper method used to calculate all possible sums\n",
    "def getAllSums(arr, l, r, result, sum = 0): \n",
    "    result.add(sum)\n",
    "    # Print current subset \n",
    "    if l > r:\n",
    "        return\n",
    "  \n",
    "    # Subset including arr[l] \n",
    "    getAllSums(arr, l + 1, r, result, sum + arr[l]) \n",
    "  \n",
    "    # Subset excluding arr[l] \n",
    "    getAllSums(arr, l + 1, r, result, sum)\n",
    "    return result"
   ]
  },
  {
   "cell_type": "code",
   "execution_count": 4,
   "metadata": {},
   "outputs": [],
   "source": [
    "# a function to run the test\n",
    "def runTest(X, Y, alpha, test):\n",
    "    domainSize = 2**len(X)\n",
    "    T, D = calcTestStat(X, Y, test)\n",
    "    \n",
    "    # get a set of all possible sums\n",
    "    if test == 'Wilcoxon':\n",
    "        allSums = getAllSums([i for i in range(len(D))], 0, len(D) - 1, set())\n",
    "    elif test == 'PairedSample':\n",
    "        allSums = getAllSums([abs(d) for d in D], 0, len(D) - 1, set())\n",
    "    resultList = []\n",
    "    i=0\n",
    "    for sums in allSums:\n",
    "        if i < int(domainSize*alpha):\n",
    "            resultList.append(sums)\n",
    "            i += 1\n",
    "    print(resultList)\n",
    "    \n",
    "    testAlpha = T / domainSize\n",
    "    print(\"Crit Value:{}\".format(resultList[len(resultList)-1]))\n",
    "    print(\"Test value:{}\".format(T))\n",
    "    \n",
    "    return T < resultList[len(resultList)-1]"
   ]
  },
  {
   "cell_type": "code",
   "execution_count": 5,
   "metadata": {},
   "outputs": [
    {
     "name": "stdout",
     "output_type": "stream",
     "text": [
      "[0, 1, 2, 3]\n",
      "Crit Value:3\n",
      "Test value:45\n",
      "\n",
      "Thus we fail to reject the null.\n"
     ]
    }
   ],
   "source": [
    "# now we can run the Wilcoxon Signed Rank Test\n",
    "if(runTest(X,Y, 0.0005, 'Wilcoxon') == False):\n",
    "    print(\"\\nThus we fail to reject the null.\")\n",
    "else:\n",
    "    print(\"\\nWe reject the null!\")"
   ]
  },
  {
   "cell_type": "code",
   "execution_count": 6,
   "metadata": {},
   "outputs": [
    {
     "name": "stdout",
     "output_type": "stream",
     "text": [
      "[0, 0.20000000000000107, 0.5999999999999996, 2.0999999999999988]\n",
      "Crit Value:2.0999999999999988\n",
      "Test value:8.100000000000001\n",
      "\n",
      "Thus we fail to reject the null.\n"
     ]
    }
   ],
   "source": [
    "# now we can run the Paired Sample Test\n",
    "if(runTest(X,Y, 0.0005, 'PairedSample') == False):\n",
    "    print(\"\\nThus we fail to reject the null.\")\n",
    "else:\n",
    "    print(\"\\nWe reject the null!\")"
   ]
  }
 ],
 "metadata": {
  "kernelspec": {
   "display_name": "Python 3",
   "language": "python",
   "name": "python3"
  },
  "language_info": {
   "codemirror_mode": {
    "name": "ipython",
    "version": 3
   },
   "file_extension": ".py",
   "mimetype": "text/x-python",
   "name": "python",
   "nbconvert_exporter": "python",
   "pygments_lexer": "ipython3",
   "version": "3.7.6"
  }
 },
 "nbformat": 4,
 "nbformat_minor": 2
}
