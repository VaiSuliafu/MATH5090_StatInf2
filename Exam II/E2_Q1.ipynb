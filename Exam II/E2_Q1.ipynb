{
 "cells": [
  {
   "cell_type": "code",
   "execution_count": 1,
   "metadata": {},
   "outputs": [],
   "source": [
    "# importing necessary library\n",
    "import numpy as np\n",
    "import pandas as pd\n",
    "import math\n",
    "\n",
    "# mathematical constant\n",
    "from math import e\n",
    "\n",
    "# distributions\n",
    "from scipy.stats import norm"
   ]
  },
  {
   "cell_type": "code",
   "execution_count": 2,
   "metadata": {},
   "outputs": [],
   "source": [
    "# Question 1\n",
    "# read in the data\n",
    "X = [0.04, 0.41, 0.62, 0.72, 0.90,\n",
    "     0.92, 1.05, 1.08, 1.27, 1.51,\n",
    "     1.52, 1.57, 1.57, 1.59, 1.85,\n",
    "     2.19, 2.25, 2.32, 2.35, 2.49,\n",
    "     2.60, 2.65, 2.66, 2.69, 2.77]"
   ]
  },
  {
   "cell_type": "code",
   "execution_count": 3,
   "metadata": {},
   "outputs": [],
   "source": [
    "# convert X to an ordered sample\n",
    "X = pd.Series(np.sort(X))"
   ]
  },
  {
   "cell_type": "code",
   "execution_count": 4,
   "metadata": {},
   "outputs": [],
   "source": [
    "# define some CDF functions to be used in Cramer Von Mises Tests\n",
    "\n",
    "# continuous uniform CDF\n",
    "def continuousUniformCDF(x, a, b):\n",
    "    return (x-a)/(b-a)\n",
    "\n",
    "# exponential CDF used in poisson process question\n",
    "def exponentialCDF(x, theta):\n",
    "    return (1 - e**(-x / theta))\n",
    "\n",
    "# a wrapper for the imported normal cdf function\n",
    "def normalCDF(x, mu, sigma):\n",
    "    return norm.cdf(x, mu, sigma)"
   ]
  },
  {
   "cell_type": "code",
   "execution_count": 5,
   "metadata": {},
   "outputs": [],
   "source": [
    "# now we can define a function for calculating the Cramer-Von Mises Test Statistic\n",
    "def CVM_Test(X, n, dis, CDFparam=None, CDFparam2=None):\n",
    "    \n",
    "    # initialize a variable to store the sum of squared differences\n",
    "    sumTotal = 0\n",
    "    \n",
    "    # calculate the sum of squared distances\n",
    "    for i in range(n):\n",
    "        ithTerm = (i+0.5)/n # i goes begins at 0, so (i+1) - 0.5 = i+0.5\n",
    "        if dis == \"ContinuousUniform\":\n",
    "            sumTotal += (continuousUniformCDF(X[i], 0, 3) - ithTerm)**2 # no parameter\n",
    "        elif dis == \"Exponential\":\n",
    "            sumTotal += (exponentialCDF(X[i], CDFparam) - ithTerm)**2 # one parameter \n",
    "        elif dis == \"Normal\":\n",
    "            sumTotal += (normalCDF(X[i], CDFparam, CDFparam2) - ithTerm)**2 ## two parameter\n",
    "            \n",
    "    # calculate the CM test statistic\n",
    "    observedCM = (1 / (12 * n)) + sumTotal\n",
    "    \n",
    "    # if we estimated a parameter for the argument distribution, apply stephen's modifications\n",
    "    if CDFparam != None:\n",
    "        if dis == \"Exponential\":\n",
    "            observedCM = (1 + (0.16/n)) * observedCM\n",
    "        elif dis == \"Normal\":\n",
    "            observedCM = (1 + (0.5/n)) * observedCM\n",
    "                \n",
    "    # return the test statistic\n",
    "    return observedCM"
   ]
  },
  {
   "cell_type": "code",
   "execution_count": 6,
   "metadata": {},
   "outputs": [],
   "source": [
    "# A function to determine whether or not we reject the null\n",
    "def rejectNull(observed, crit, message):\n",
    "    # print the question\n",
    "    print(message)\n",
    "\n",
    "    # print this test\n",
    "    print(observed, \">\", crit, \"=\", observed>crit)\n",
    "\n",
    "    # print the results\n",
    "    if (observed>crit):\n",
    "        print(\"Thus we reject the null.\")\n",
    "    else:\n",
    "        print(\"Thus we fail to reject the null.\")\n",
    "    return"
   ]
  },
  {
   "cell_type": "code",
   "execution_count": 7,
   "metadata": {},
   "outputs": [
    {
     "name": "stdout",
     "output_type": "stream",
     "text": [
      "Question #1a:\n",
      "0.13785555555555556 > 0.347 = False\n",
      "Thus we fail to reject the null.\n"
     ]
    }
   ],
   "source": [
    "# lets run a CVM test to see if X is from a continuous uniform distribution\n",
    "observedCM = CVM_Test(X, 25, \"ContinuousUniform\")\n",
    "rejectNull(observedCM, 0.347, \"Question #1a:\")"
   ]
  },
  {
   "cell_type": "code",
   "execution_count": 8,
   "metadata": {},
   "outputs": [
    {
     "name": "stdout",
     "output_type": "stream",
     "text": [
      "HO: Difference in observations ~ Exponentially for some parameter mu:\n",
      "5.637018814662897 > 0.177 = True\n",
      "Thus we reject the null.\n",
      "\n",
      "Question #1b. Thus, we reject that X is from a poisson process.\n"
     ]
    }
   ],
   "source": [
    "# now lets test to see if X is a poisson process\n",
    "    \n",
    "# For a poisson process there are 3 conditions.\n",
    "## c1: The difference between observations should be distributed Exp()\n",
    "## c2: Events are indepenedent of one another\n",
    "## c3: Observations cannot overlap\n",
    "\n",
    "# first we need to calculate the differences between observations\n",
    "X2 = []\n",
    "for i in range (1, len(X), 1):\n",
    "    X2.append(X[i] - X[i-1])\n",
    "    \n",
    "# now we want to run a CVM test to see if these differences match an exponential distribution\n",
    "# since the exponential distribution needs a parameter, we will use the MLE as an estimate\n",
    "mle = sum(X2) / len(X2) # MLE is sum(Xi)/n for exponential distribution\n",
    "\n",
    "# now we can use CVM test to see if X2 ~ Exp(mle)\n",
    "observedCM = CVM_Test(X2, 24, \"Exponential\", mle)\n",
    "rejectNull(observedCM, 0.177, \"HO: Difference in observations ~ Exponentially for some parameter mu:\")\n",
    "print(\"\")\n",
    "print(\"Question #1b. Thus, we reject that X is from a poisson process.\")"
   ]
  },
  {
   "cell_type": "code",
   "execution_count": 9,
   "metadata": {},
   "outputs": [
    {
     "name": "stdout",
     "output_type": "stream",
     "text": [
      "Question #1c:\n",
      "0.08340833935309093 > 0.104 = False\n",
      "Thus we fail to reject the null.\n"
     ]
    }
   ],
   "source": [
    "# finally lets test to see if X is from a normal distribution\n",
    "# Again, we need to estimate the paramters of the normal CDF\n",
    "\n",
    "## mu_mle = (1/n) * sum(xi) for normal distribution\n",
    "mu_mle = 0\n",
    "for x_i in X:\n",
    "    mu_mle += x_i\n",
    "mu_mle = mu_mle/len(X)\n",
    "\n",
    "## sigma_mle = sqrt((1/n) * sum((xi - mu_mle)^2)) for normal distribution\n",
    "sigma_mle = 0\n",
    "for x_i in X:\n",
    "    sigma_mle += (x_i - mu_mle)**2\n",
    "sigma_mle = sigma_mle / len(X)\n",
    "sigma_mle = sigma_mle **(1/2)\n",
    "\n",
    "observedCM = CVM_Test(X, 25, \"Normal\", mu_mle, sigma_mle)\n",
    "rejectNull(observedCM, 0.104, \"Question #1c:\")"
   ]
  },
  {
   "cell_type": "code",
   "execution_count": 10,
   "metadata": {},
   "outputs": [
    {
     "data": {
      "text/plain": [
       "1.6636000000000004"
      ]
     },
     "execution_count": 10,
     "metadata": {},
     "output_type": "execute_result"
    }
   ],
   "source": [
    "mu_mle"
   ]
  },
  {
   "cell_type": "code",
   "execution_count": 11,
   "metadata": {},
   "outputs": [
    {
     "data": {
      "text/plain": [
       "0.7905232697397339"
      ]
     },
     "execution_count": 11,
     "metadata": {},
     "output_type": "execute_result"
    }
   ],
   "source": [
    "sigma_mle"
   ]
  },
  {
   "cell_type": "code",
   "execution_count": null,
   "metadata": {},
   "outputs": [],
   "source": []
  }
 ],
 "metadata": {
  "kernelspec": {
   "display_name": "Python 3",
   "language": "python",
   "name": "python3"
  },
  "language_info": {
   "codemirror_mode": {
    "name": "ipython",
    "version": 3
   },
   "file_extension": ".py",
   "mimetype": "text/x-python",
   "name": "python",
   "nbconvert_exporter": "python",
   "pygments_lexer": "ipython3",
   "version": "3.7.6"
  }
 },
 "nbformat": 4,
 "nbformat_minor": 2
}
