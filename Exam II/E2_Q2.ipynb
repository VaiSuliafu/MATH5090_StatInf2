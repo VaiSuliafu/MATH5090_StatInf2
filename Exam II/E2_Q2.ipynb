{
 "cells": [
  {
   "cell_type": "code",
   "execution_count": 20,
   "metadata": {},
   "outputs": [
    {
     "name": "stdout",
     "output_type": "stream",
     "text": [
      "I started with a test of indepedence to determine if age was independent of political party affiliation. \n",
      "This led to a rejection of the null at alpha = 0.05. I then dug deeper with multiple r-sample binomial tests,\n",
      "finding evidence to reject the null hypothesis that being an independent was independent of age.\n",
      "Digging deeper again, I found evidence to reject the null hypothesis that\n",
      "being an independent was indepent of being 50 years old or younger.\n",
      "Finally, I used single binomial tests to reject the null hypothesis that \n",
      "polling is independent of neither age nor being an independent.\n"
     ]
    }
   ],
   "source": [
    "# Post analysis summary\n",
    "print('''I started with a test of indepedence to determine if age was independent of political party affiliation. \n",
    "This led to a rejection of the null at alpha = 0.05. I then dug deeper with multiple r-sample binomial tests,\n",
    "finding evidence to reject the null hypothesis that being an independent was independent of age.\n",
    "Digging deeper again, I found evidence to reject the null hypothesis that\n",
    "being an independent was indepent of being 50 years old or younger.\n",
    "Finally, I used single binomial tests to reject the null hypothesis that \n",
    "polling is independent of neither age nor being an independent.''')"
   ]
  },
  {
   "cell_type": "code",
   "execution_count": 2,
   "metadata": {},
   "outputs": [],
   "source": [
    "# load the required packages\n",
    "import numpy as np\n",
    "import pandas as pd"
   ]
  },
  {
   "cell_type": "code",
   "execution_count": 3,
   "metadata": {},
   "outputs": [],
   "source": [
    "# read in the data as a matrix\n",
    "matrix = [[35, 77, 56],\n",
    "          [23, 67, 82],\n",
    "          [32, 96, 32]]\n",
    "\n",
    "matrix = np.array(matrix)"
   ]
  },
  {
   "cell_type": "code",
   "execution_count": 4,
   "metadata": {},
   "outputs": [],
   "source": [
    "# a helper method to compute the sum of a row over all columns\n",
    "def rowSum(matrix, rowNum):\n",
    "    result = 0\n",
    "    for i in range(len(matrix[rowNum])):\n",
    "        result += matrix[rowNum][i]\n",
    "    return result\n",
    "\n",
    "# a helper method to compute the sum of a column over all rows\n",
    "def colSum(matrix, colNum):\n",
    "    result = 0\n",
    "    for i in range(len(matrix)):\n",
    "        result += matrix[i][colNum]\n",
    "    return result\n",
    "\n",
    "# a helper method to calculate the total number of N\n",
    "def calcN(matrix):\n",
    "    result = 0\n",
    "    for i in range(len(matrix)):\n",
    "        result += rowSum(matrix, i)\n",
    "    return result\n",
    "\n",
    "# a helper method to calculate the expected value for this row column combo\n",
    "def calcE(matrix, rowNum, colNum):\n",
    "    return (rowSum(matrix, rowNum) * colSum(matrix, colNum)) / calcN(matrix)\n",
    "\n",
    "# a helper method to calculate the degrees of freedom\n",
    "def calcDegreesFreedom(matrix):\n",
    "    return len(matrix) + len(matrix[0]) - 2"
   ]
  },
  {
   "cell_type": "code",
   "execution_count": 5,
   "metadata": {},
   "outputs": [],
   "source": [
    "# a function which computes the observed Chi-Squared test statistics\n",
    "def chiSquare_Test(matrix):\n",
    "    result = 0\n",
    "    for i in range(len(matrix)):\n",
    "        for j in range(len(matrix[i])):\n",
    "            observedVal = matrix[i][j]\n",
    "            expectedVal = calcE(matrix, i, j)\n",
    "            squaredDiff = (observedVal - expectedVal)**2\n",
    "            result += squaredDiff / expectedVal\n",
    "    return result"
   ]
  },
  {
   "cell_type": "code",
   "execution_count": 6,
   "metadata": {},
   "outputs": [],
   "source": [
    "# A function to determine whether or not we reject the null\n",
    "def rejectNull(observed, crit, message):\n",
    "    # print the question\n",
    "    print(message)\n",
    "\n",
    "    # print this test\n",
    "    print(observed, \">\", crit, \"=\", observed>crit)\n",
    "\n",
    "    # print the results\n",
    "    if (observed>crit):\n",
    "        print(\"Thus we reject the null.\")\n",
    "    else:\n",
    "        print(\"Thus we fail to reject the null.\")\n",
    "    return"
   ]
  },
  {
   "cell_type": "code",
   "execution_count": 7,
   "metadata": {},
   "outputs": [],
   "source": [
    "# A function for the single sample binomial test\n",
    "def oneSampleBinomialTest(o1, o2):\n",
    "    N = o1 + o2\n",
    "    e1 = N * 0.5\n",
    "    return (((o1-e1)**2) / e1) + (((o2-e1)**2) / e1)"
   ]
  },
  {
   "cell_type": "code",
   "execution_count": 8,
   "metadata": {},
   "outputs": [
    {
     "name": "stdout",
     "output_type": "stream",
     "text": [
      "We have 4 degrees of freedom.\n",
      "Thus the critical value with alpha=0.05 is 9.49\n",
      "\n",
      "Test of independence between Age & Affiliation:\n",
      "29.75323155748088 > 9.49 = True\n",
      "Thus we reject the null.\n"
     ]
    }
   ],
   "source": [
    "# now lets check for indepedence across Age and Affiliation\n",
    "\n",
    "# first we need to calculate the critical value for the chi squared distributon\n",
    "# we can start by calculating the degrees of freedom\n",
    "print(\"We have {} degrees of freedom.\".format(calcDegreesFreedom(matrix)))\n",
    "print(\"Thus the critical value with alpha=0.05 is 9.49\") # looked up in table\n",
    "print(\"\")\n",
    "\n",
    "# now lets run our test\n",
    "observedChiSquared = chiSquare_Test(matrix)\n",
    "rejectNull(observedChiSquared, 9.49, \"Test of independence between Age & Affiliation:\")"
   ]
  },
  {
   "cell_type": "code",
   "execution_count": 9,
   "metadata": {},
   "outputs": [
    {
     "data": {
      "text/plain": [
       "array([[ 35, 133],\n",
       "       [ 23, 149],\n",
       "       [ 32, 128]])"
      ]
     },
     "execution_count": 9,
     "metadata": {},
     "output_type": "execute_result"
    }
   ],
   "source": [
    "# since we rejected the null, we must drill deeper\n",
    "\n",
    "# lets test indepence between any party affiliation and age <= 30\n",
    "matrix2 = []\n",
    "for i in range(len(matrix)):\n",
    "    matrix2.append([matrix[i][0], (rowSum(matrix, i) - matrix[i][0])])\n",
    "matrix2 = np.array(matrix2)\n",
    "matrix2"
   ]
  },
  {
   "cell_type": "code",
   "execution_count": 10,
   "metadata": {},
   "outputs": [
    {
     "name": "stdout",
     "output_type": "stream",
     "text": [
      "We have 3 degrees of freedom.\n",
      "Thus the critical value with alpha=0.05 is 7.81\n",
      "\n",
      "Test of independence between Age<=30 & Affiliation:\n",
      "3.8431440515955555 > 7.81 = False\n",
      "Thus we fail to reject the null.\n"
     ]
    }
   ],
   "source": [
    "# now lets check for indepedence across Age <= 30 and Affiliation\n",
    "print(\"We have {} degrees of freedom.\".format(calcDegreesFreedom(matrix2)))\n",
    "print(\"Thus the critical value with alpha=0.05 is 7.81\") # looked up in table\n",
    "print(\"\")\n",
    "\n",
    "# now lets run our test\n",
    "observedChiSquared = chiSquare_Test(matrix2)\n",
    "rejectNull(observedChiSquared, 7.81, \"Test of independence between Age<=30 & Affiliation:\")"
   ]
  },
  {
   "cell_type": "code",
   "execution_count": 11,
   "metadata": {},
   "outputs": [
    {
     "data": {
      "text/plain": [
       "array([[ 58, 144, 138],\n",
       "       [ 32,  96,  32]])"
      ]
     },
     "execution_count": 11,
     "metadata": {},
     "output_type": "execute_result"
    }
   ],
   "source": [
    "# since failed to reject this null, lets try another test at the same level of detail\n",
    "\n",
    "# lets test indepence between being an independent and age.\n",
    "matrix3 = []\n",
    "for i in range(len(matrix[0])):\n",
    "    matrix3.append([(colSum(matrix, i) - matrix[2][i]), matrix[2][i]])\n",
    "matrix3 = np.array(matrix3).transpose()\n",
    "matrix3"
   ]
  },
  {
   "cell_type": "code",
   "execution_count": 12,
   "metadata": {},
   "outputs": [
    {
     "name": "stdout",
     "output_type": "stream",
     "text": [
      "We have 3 degrees of freedom.\n",
      "Thus the critical value with alpha=0.05 is 7.81\n",
      "\n",
      "Test of independence between being an Independent & Age:\n",
      "21.14571318723568 > 7.81 = True\n",
      "Thus we reject the null.\n"
     ]
    }
   ],
   "source": [
    "# now lets check for indepedence across being an independent and age.\n",
    "print(\"We have {} degrees of freedom.\".format(calcDegreesFreedom(matrix3)))\n",
    "print(\"Thus the critical value with alpha=0.05 is 7.81\") # looked up in table\n",
    "print(\"\")\n",
    "\n",
    "# now lets run our test\n",
    "observedChiSquared = chiSquare_Test(matrix3)\n",
    "rejectNull(observedChiSquared, 7.81, \"Test of independence between being an Independent & Age:\")"
   ]
  },
  {
   "cell_type": "code",
   "execution_count": 13,
   "metadata": {},
   "outputs": [
    {
     "data": {
      "text/plain": [
       "array([[ 58, 282],\n",
       "       [ 32, 128]])"
      ]
     },
     "execution_count": 13,
     "metadata": {},
     "output_type": "execute_result"
    }
   ],
   "source": [
    "# since we have again rejected the null, we must again drill deeper\n",
    "\n",
    "# lets test independence between being an independent and age<30\n",
    "matrix4 = []\n",
    "for i in range(len(matrix3)):\n",
    "    matrix4.append([matrix3[i][0], (rowSum(matrix3, i) - matrix3[i][0])])\n",
    "matrix4 = np.array(matrix4)\n",
    "matrix4"
   ]
  },
  {
   "cell_type": "code",
   "execution_count": 14,
   "metadata": {},
   "outputs": [
    {
     "name": "stdout",
     "output_type": "stream",
     "text": [
      "We have 2 degrees of freedom.\n",
      "Thus the critical value with alpha=0.05 is 5.99\n",
      "\n",
      "Test of independence between being an Independent & Age<30\n",
      "0.6376534353578822 > 5.99 = False\n",
      "Thus we fail to reject the null.\n"
     ]
    }
   ],
   "source": [
    "# now lets check for indepedence across being an independent and age\n",
    "print(\"We have {} degrees of freedom.\".format(calcDegreesFreedom(matrix4)))\n",
    "print(\"Thus the critical value with alpha=0.05 is 5.99\") # looked up in table\n",
    "print(\"\")\n",
    "\n",
    "# now lets run our test\n",
    "observedChiSquared = chiSquare_Test(matrix4)\n",
    "rejectNull(observedChiSquared, 5.99, \"Test of independence between being an Independent & Age<30\")"
   ]
  },
  {
   "cell_type": "code",
   "execution_count": 15,
   "metadata": {},
   "outputs": [
    {
     "data": {
      "text/plain": [
       "array([[202, 138],\n",
       "       [128,  32]])"
      ]
     },
     "execution_count": 15,
     "metadata": {},
     "output_type": "execute_result"
    }
   ],
   "source": [
    "# lets test independence between being an independent and age<51\n",
    "matrix5 = []\n",
    "for i in range(len(matrix3)):\n",
    "    matrix5.append([(rowSum(matrix3, i) - matrix3[i][2]), matrix3[i][2]])\n",
    "matrix5 = np.array(matrix5)\n",
    "matrix5"
   ]
  },
  {
   "cell_type": "code",
   "execution_count": 16,
   "metadata": {},
   "outputs": [
    {
     "name": "stdout",
     "output_type": "stream",
     "text": [
      "We have 2 degrees of freedom.\n",
      "Thus the critical value with alpha=0.05 is 5.99\n",
      "\n",
      "Test of independence between being an Independent & Age<50\n",
      "20.551536122470385 > 5.99 = True\n",
      "Thus we reject the null.\n"
     ]
    }
   ],
   "source": [
    "# now lets check for indepedence across being an independent and age <=50\n",
    "print(\"We have {} degrees of freedom.\".format(calcDegreesFreedom(matrix5)))\n",
    "print(\"Thus the critical value with alpha=0.05 is 5.99\") # looked up in table\n",
    "print(\"\")\n",
    "\n",
    "# now lets run our test\n",
    "observedChiSquared = chiSquare_Test(matrix5)\n",
    "rejectNull(observedChiSquared, 5.99, \"Test of independence between being an Independent & Age<50\")"
   ]
  },
  {
   "cell_type": "code",
   "execution_count": 17,
   "metadata": {},
   "outputs": [
    {
     "name": "stdout",
     "output_type": "stream",
     "text": [
      "Test of independence between being a young party member vs old party member\n",
      "12.047058823529412 > 3.84 = True\n",
      "Thus we reject the null.\n",
      "\n",
      "Test of independence between being a young independent vs being an old independent\n",
      "57.6 > 3.84 = True\n",
      "Thus we reject the null.\n",
      "\n",
      "Test of independence between being a young party member vs young independent\n",
      "16.593939393939394 > 3.84 = True\n",
      "Thus we reject the null.\n",
      "\n",
      "Test of independence between being an old party member vs an old independent\n",
      "66.09411764705882 > 3.84 = True\n",
      "Thus we reject the null.\n"
     ]
    }
   ],
   "source": [
    "# now since we rejected the null, we must dig to final level\n",
    "\n",
    "# lets use one sample binomial tests to full inspect what remains\n",
    "observedChiSquared = oneSampleBinomialTest(matrix5[0][0], matrix5[0][1])\n",
    "rejectNull(observedChiSquared, 3.84, \"Test of independence between being a young party member vs old party member\")\n",
    "print(\"\")\n",
    "\n",
    "observedChiSquared=oneSampleBinomialTest(matrix5[1][0], matrix5[1][1])\n",
    "rejectNull(observedChiSquared, 3.84, \"Test of independence between being a young independent vs being an old independent\")\n",
    "print(\"\")\n",
    "\n",
    "matrix5 = matrix5.transpose()\n",
    "\n",
    "observedChiSquared = oneSampleBinomialTest(matrix5[0][0], matrix5[0][1])\n",
    "rejectNull(observedChiSquared, 3.84, \"Test of independence between being a young party member vs young independent\")\n",
    "print(\"\")\n",
    "\n",
    "observedChiSquared=oneSampleBinomialTest(matrix5[1][0], matrix5[1][1])\n",
    "rejectNull(observedChiSquared, 3.84, \"Test of independence between being an old party member vs an old independent\")"
   ]
  },
  {
   "cell_type": "code",
   "execution_count": 18,
   "metadata": {},
   "outputs": [
    {
     "name": "stdout",
     "output_type": "stream",
     "text": [
      "[340, 160]\n",
      "[330, 170]\n",
      "\n",
      "Test of independence between being <50yrs of age vs >= 51 years of age\n",
      "64.8 > 3.84 = True\n",
      "Thus we reject the null.\n",
      "\n",
      "Test of independence between being an independent and being a party member\n",
      "51.2 > 3.84 = True\n",
      "Thus we reject the null.\n"
     ]
    }
   ],
   "source": [
    "matrix6 = [matrix5[0][0] + matrix5[1][0], matrix5[0][1] + matrix5[1][1]] # young vs old\n",
    "matrix7 = [matrix5[0][0] + matrix5[0][1], matrix5[1][0] + matrix5[1][1]] # party member vs independent\n",
    "\n",
    "print(matrix6)\n",
    "print(matrix7)\n",
    "print(\"\")\n",
    "observedChiSquared = oneSampleBinomialTest(matrix6[0], matrix6[1])\n",
    "rejectNull(observedChiSquared, 3.84, \"Test of independence between being <50yrs of age vs >= 51 years of age\")\n",
    "print(\"\")\n",
    "\n",
    "observedChiSquared=oneSampleBinomialTest(matrix7[0], matrix7[1])\n",
    "rejectNull(observedChiSquared, 3.84, \"Test of independence between being an independent and being a party member\")"
   ]
  },
  {
   "cell_type": "code",
   "execution_count": null,
   "metadata": {},
   "outputs": [],
   "source": []
  }
 ],
 "metadata": {
  "kernelspec": {
   "display_name": "Python 3",
   "language": "python",
   "name": "python3"
  },
  "language_info": {
   "codemirror_mode": {
    "name": "ipython",
    "version": 3
   },
   "file_extension": ".py",
   "mimetype": "text/x-python",
   "name": "python",
   "nbconvert_exporter": "python",
   "pygments_lexer": "ipython3",
   "version": "3.7.6"
  }
 },
 "nbformat": 4,
 "nbformat_minor": 2
}
